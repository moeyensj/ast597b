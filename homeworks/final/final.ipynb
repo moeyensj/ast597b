{
 "metadata": {
  "name": "",
  "signature": "sha256:7f8861859b90c973401bf74c36833c59095ea71f4496c48e8c98941ddbd4b784"
 },
 "nbformat": 3,
 "nbformat_minor": 0,
 "worksheets": [
  {
   "cells": [
    {
     "cell_type": "heading",
     "level": 1,
     "metadata": {},
     "source": [
      "Final Project"
     ]
    },
    {
     "cell_type": "markdown",
     "metadata": {},
     "source": [
      "Due: Mar 22nd 2015, 10pm PDT (((**NOTE: THIS IS A HARD DEADLINE; NO EXTENSIONS WILL BE POSSIBLE **)))\n",
      "\n",
      "How to submit: Fork the class git repository and write your homework in an IPython notebook in homeworks/final/$NAME, replacing $NAME with your name without any spaces (i.e., homeworks/final/MarioJuric). To submit, issue a pull request."
     ]
    },
    {
     "cell_type": "markdown",
     "metadata": {},
     "source": [
      "## Problem 1\n",
      "\n",
      "In class, you gave a presentation on a large survey project. For this homework, write:\n",
      "\n",
      "* An LSD YAML table schema (.yaml file), and,\n",
      "* the `lsd-import` command line (or any additional code or scripts) for a catalog from the survey you discussed.\n",
      "\n",
      "Note that this problem is *very* similar to [Problem #3 in Homework #1](http://nbviewer.ipython.org/github/mjuric/ast597b/blob/master/homeworks/hw1/solution/hw1-solutions.ipynb#Problem-3:-Importing-data-into-the-Large-Survey-Database).\n",
      "\n",
      "## Notes\n",
      "\n",
      "* You don't need to import the entire catalog -- some of them are quite big! Just demonstrate that your schema works by importing a small subset (e.g., one or a few files from the catalog).\n",
      "* If the project you presented consists of multiple sub-surveys, pick one for which you will write the schema. There's no need to do all of them"
     ]
    }
   ],
   "metadata": {}
  }
 ]
}