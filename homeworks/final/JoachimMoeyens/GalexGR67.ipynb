{
 "cells": [
  {
   "cell_type": "markdown",
   "metadata": {
    "collapsed": true
   },
   "source": [
    "### Joachim Moeyens - Final Project - ASTR 597B"
   ]
  },
  {
   "cell_type": "markdown",
   "metadata": {},
   "source": [
    "The GALEX source catalog is hosted by MAST and can be downloaded from the following website:\n",
    "http://archive.stsci.edu/prepds/gcat/gcat_dataproducts.html\n",
    "\n",
    "GALEX GRs 6/7 (General Releases):\n",
    "\n",
    "General Information:\n",
    "For both GRs, the source data is distributed per survey in gzipped fits files. Each survey has three catalogs available: primary sources, secondary sources and duplicate sources either chunk by chunk (191 total) or, in the case of the fullsky distribution, grouped in chunks of seven. More information in the link provided above.\n",
    "\n",
    "General Release Directory:\n",
    "http://archive.stsci.edu/pub/hlsp/gcat/\n",
    "\n",
    "GR6:\n",
    " - All Sky Survey (/asc)\n",
    " - Medium Sky Survey (/msc)\n",
    "     \n",
    "GR7:\n",
    " - Kepler (/kepler)* \n",
    " \n",
    "*Does not include GR6 data\n"
   ]
  },
  {
   "cell_type": "code",
   "execution_count": 1,
   "metadata": {
    "collapsed": true
   },
   "outputs": [],
   "source": [
    "import astropy.io.fits as pyfits\n",
    "import numpy as np"
   ]
  },
  {
   "cell_type": "code",
   "execution_count": 2,
   "metadata": {
    "collapsed": false,
    "scrolled": false
   },
   "outputs": [
    {
     "name": "stdout",
     "output_type": "stream",
     "text": [
      "['000-007', '008-015', '016-023', '024-031', '032-039', '040-047', '048-055', '056-063', '064-071', '072-079', '080-087', '088-095', '096-103', '104-111', '112-119', '120-127', '128-135', '136-143', '144-151', '152-159', '160-167', '168-175', '176-183', '184-191']\n"
     ]
    }
   ],
   "source": [
    "# Creates list of chunk ranges for fullsky catalog downloads\n",
    "def chunkToString(chunk):\n",
    "    chunk = str(chunk)\n",
    "    if len(chunk) == 1:\n",
    "        return '00' + chunk\n",
    "    elif len(chunk) == 2:\n",
    "        return '0' + chunk\n",
    "    else:\n",
    "        return chunk\n",
    "    return\n",
    "\n",
    "chunk_range = np.arange(0,191,8)\n",
    "chunks = []\n",
    "for i,c in enumerate(chunk_range):\n",
    "    chunks.append(chunkToString(c) + '-' + chunkToString(c+7))\n",
    "    \n",
    "print chunks"
   ]
  },
  {
   "cell_type": "markdown",
   "metadata": {},
   "source": [
    "### General Release 6:"
   ]
  },
  {
   "cell_type": "markdown",
   "metadata": {},
   "source": [
    "All Sky Survey - Primary Source Catalog:"
   ]
  },
  {
   "cell_type": "code",
   "execution_count": 3,
   "metadata": {
    "collapsed": true
   },
   "outputs": [],
   "source": [
    "# Create directory structure (matches website structure)\n",
    "! mkdir -p ~/Galex67/asc/fullsky/catalog"
   ]
  },
  {
   "cell_type": "code",
   "execution_count": 4,
   "metadata": {
    "collapsed": false
   },
   "outputs": [],
   "source": [
    "# Downloads the primary source catalog (16.3 GB)\n",
    "for chunk in chunks:\n",
    "    ! (cd ~/Galex67/asc/fullsky/catalog && wget -nv -nc http://archive.stsci.edu/pub/hlsp/gcat/asc/fullsky/catalog/SP_{chunk}-asc-xd-pricat.fits.gz)"
   ]
  },
  {
   "cell_type": "code",
   "execution_count": 5,
   "metadata": {
    "collapsed": true
   },
   "outputs": [],
   "source": [
    "# Open sample file (copied chunk 000-007 to local directory)\n",
    "data = pyfits.getdata('SP_000-007-asc-xd-pricat.fits.gz')"
   ]
  },
  {
   "cell_type": "code",
   "execution_count": 6,
   "metadata": {
    "collapsed": false
   },
   "outputs": [
    {
     "name": "stdout",
     "output_type": "stream",
     "text": [
      "(ggoid, |S20)\n",
      "(tilenum, >i4)\n",
      "(ra, >f8)\n",
      "(dec, >f8)\n",
      "(e_bv, >f4)\n",
      "(glon, >f4)\n",
      "(glat, >f4)\n",
      "(fov_radius, >f4)\n",
      "(flux_nuv, >f4)\n",
      "(fluxerr_nuv, >f4)\n",
      "(mag_nuv, >f4)\n",
      "(magerr_nuv, >f4)\n",
      "(s2n_nuv, >f4)\n",
      "(flux_fuv, >f4)\n",
      "(fluxerr_fuv, >f4)\n",
      "(mag_fuv, >f4)\n",
      "(magerr_fuv, >f4)\n",
      "(s2n_fuv, >f4)\n",
      "(bkgrnd_flux_nuv, >f4)\n",
      "(bkgrnd_flux_fuv, >f4)\n",
      "(eff_exptime_nuv, >f4)\n",
      "(eff_exptime_fuv, >f4)\n",
      "(artifact_nuv, >i4)\n",
      "(artifact_fuv, >i4)\n",
      "(poserr, >f4)\n",
      "(number_mcat, >i4)\n",
      "(flux_d3p0_nuv, >f4)\n",
      "(flux_d4p5_nuv, >f4)\n",
      "(flux_d7p5_nuv, >f4)\n",
      "(flux_d12p0_nuv, >f4)\n",
      "(flux_d18p0_nuv, >f4)\n",
      "(flux_d25p5_nuv, >f4)\n",
      "(flux_d34p5_nuv, >f4)\n",
      "(fluxerr_d3p0_nuv, >f4)\n",
      "(fluxerr_d4p5_nuv, >f4)\n",
      "(fluxerr_d7p5_nuv, >f4)\n",
      "(fluxerr_d12p0_nuv, >f4)\n",
      "(fluxerr_d18p0_nuv, >f4)\n",
      "(fluxerr_d25p5_nuv, >f4)\n",
      "(fluxerr_d34p5_nuv, >f4)\n",
      "(mag_d3p0_nuv, >f4)\n",
      "(mag_d4p5_nuv, >f4)\n",
      "(mag_d7p5_nuv, >f4)\n",
      "(mag_d12p0_nuv, >f4)\n",
      "(mag_d18p0_nuv, >f4)\n",
      "(mag_d25p5_nuv, >f4)\n",
      "(mag_d34p5_nuv, >f4)\n",
      "(magerr_d3p0_nuv, >f4)\n",
      "(magerr_d4p5_nuv, >f4)\n",
      "(magerr_d7p5_nuv, >f4)\n",
      "(magerr_d12p0_nuv, >f4)\n",
      "(magerr_d18p0_nuv, >f4)\n",
      "(magerr_d25p5_nuv, >f4)\n",
      "(magerr_d34p5_nuv, >f4)\n",
      "(flux20_radius_nuv, >f4)\n",
      "(flux50_radius_nuv, >f4)\n",
      "(flux80_radius_nuv, >f4)\n",
      "(flux90_radius_nuv, >f4)\n",
      "(flux95_radius_nuv, >f4)\n",
      "(flux_max_nuv, >f4)\n",
      "(x_image, >f4)\n",
      "(y_image, >f4)\n",
      "(xpeak_image, >i4)\n",
      "(ypeak_image, >i4)\n",
      "(semimajor, >f4)\n",
      "(posang, >f4)\n",
      "(semiminor, >f4)\n",
      "(semimajorerr, >f4)\n",
      "(semiminorerr, >f4)\n",
      "(posangerr, >f4)\n",
      "(fwhm_nuv, >f4)\n",
      "(flags_nuv, >i2)\n",
      "(class_star, >f4)\n",
      "(flux_d3p0_fuv, >f4)\n",
      "(flux_d4p5_fuv, >f4)\n",
      "(flux_d7p5_fuv, >f4)\n",
      "(flux_d12p0_fuv, >f4)\n",
      "(flux_d18p0_fuv, >f4)\n",
      "(flux_d25p5_fuv, >f4)\n",
      "(flux_d34p5_fuv, >f4)\n",
      "(fluxerr_d3p0_fuv, >f4)\n",
      "(fluxerr_d4p5_fuv, >f4)\n",
      "(fluxerr_d7p5_fuv, >f4)\n",
      "(fluxerr_d12p0_fuv, >f4)\n",
      "(fluxerr_d18p0_fuv, >f4)\n",
      "(fluxerr_d25p5_fuv, >f4)\n",
      "(fluxerr_d34p5_fuv, >f4)\n",
      "(mag_d3p0_fuv, >f4)\n",
      "(mag_d4p5_fuv, >f4)\n",
      "(mag_d7p5_fuv, >f4)\n",
      "(mag_d12p0_fuv, >f4)\n",
      "(mag_d18p0_fuv, >f4)\n",
      "(mag_d25p5_fuv, >f4)\n",
      "(mag_d34p5_fuv, >f4)\n",
      "(magerr_d3p0_fuv, >f4)\n",
      "(magerr_d4p5_fuv, >f4)\n",
      "(magerr_d7p5_fuv, >f4)\n",
      "(magerr_d12p0_fuv, >f4)\n",
      "(magerr_d18p0_fuv, >f4)\n",
      "(magerr_d25p5_fuv, >f4)\n",
      "(magerr_d34p5_fuv, >f4)\n",
      "(flux20_radius_fuv, >f4)\n",
      "(flux50_radius_fuv, >f4)\n",
      "(flux80_radius_fuv, >f4)\n",
      "(flux90_radius_fuv, >f4)\n",
      "(flux95_radius_fuv, >f4)\n",
      "(fwhm_fuv, >f4)\n",
      "(flags_fuv, >i2)\n",
      "(tile, |S31)\n",
      "(exptime_fuv, >f4)\n",
      "(exptime_nuv, >f4)\n",
      "(name, |S27)\n",
      "(bkgrnd_mag_nuv, >f4)\n",
      "(bkgrnd_mag_fuv, >f4)\n",
      "(hp_pixel, |S22)\n",
      "(extended, uint8)\n",
      "(flux_3ul_fuv, >f4)\n",
      "(mag_3ul_fuv, >f4)\n",
      "(flux_d6p0_3ul_fuv, >f4)\n",
      "(mag_d6p0_3ul_fuv, >f4)\n",
      "(manflag, >i2)\n"
     ]
    }
   ],
   "source": [
    "for column in data.dtype.names:\n",
    "    print \"(%s, %s)\" % (column.lower(), data[column].dtype)"
   ]
  },
  {
   "cell_type": "code",
   "execution_count": 7,
   "metadata": {
    "collapsed": false,
    "scrolled": false
   },
   "outputs": [
    {
     "name": "stdout",
     "output_type": "stream",
     "text": [
      "filters: {complevel: 5, complib: blosc}\r\n",
      "schema:\r\n",
      " common:\r\n",
      "  primary_key: galex_id\r\n",
      "  spatial_keys: [ra, dec]\r\n",
      "  columns:\r\n",
      "  - [galex_id, u8]\r\n",
      "  - [ggoid, S20]\r\n",
      "  - [tilenum, i4]\r\n",
      "  - [ra, f8]\r\n",
      "  - [dec, f8]\r\n",
      "  - [glon, f4]\r\n",
      "  - [glat, f4]\r\n",
      "  - [e_bv, f4]\r\n",
      "  - [fov_radius, f4]\r\n",
      "  - [flux_nuv, f4]\r\n",
      "  - [fluxerr_nuv, f4]\r\n",
      "  - [mag_nuv, f4]\r\n",
      "  - [magerr_nuv, f4]\r\n",
      "  - [s2n_nuv, f4]\r\n",
      "  - [flux_fuv, f4]\r\n",
      "  - [fluxerr_fuv, f4]\r\n",
      "  - [mag_fuv, f4]\r\n",
      "  - [magerr_fuv, f4]\r\n",
      "  - [s2n_fuv, f4]\r\n",
      "  - [bkgrnd_flux_nuv, f4]\r\n",
      "  - [bkgrnd_flux_fuv, f4]\r\n",
      "  - [bkgrnd_mag_nuv, f4]\r\n",
      "  - [bkgrnd_mag_fuv, f4]\r\n",
      "  - [eff_exptime_nuv, f4]\r\n",
      "  - [eff_exptime_fuv, f4]\r\n",
      "  - [class_star, f4]\r\n",
      "  - [number_mcat, i4]\r\n",
      " photoextra_nuv:\r\n",
      "  columns:\r\n",
      "  - [exptime_nuv, f4]\r\n",
      "  - [flux_d3p0_nuv, f4]\r\n",
      "  - [flux_d4p5_nuv, f4]\r\n",
      "  - [flux_d7p5_nuv, f4]\r\n",
      "  - [flux_d12p0_nuv, f4]\r\n",
      "  - [flux_d18p0_nuv, f4]\r\n",
      "  - [flux_d25p5_nuv, f4]\r\n",
      "  - [flux_d34p5_nuv, f4]\r\n",
      "  - [fluxerr_d3p0_nuv, f4]\r\n",
      "  - [fluxerr_d4p5_nuv, f4]\r\n",
      "  - [fluxerr_d7p5_nuv, f4]\r\n",
      "  - [fluxerr_d12p0_nuv, f4]\r\n",
      "  - [fluxerr_d18p0_nuv, f4]\r\n",
      "  - [fluxerr_d25p5_nuv, f4]\r\n",
      "  - [fluxerr_d34p5_nuv, f4]\r\n",
      "  - [mag_d3p0_nuv, f4]\r\n",
      "  - [mag_d4p5_nuv, f4]\r\n",
      "  - [mag_d7p5_nuv, f4]\r\n",
      "  - [mag_d12p0_nuv, f4]\r\n",
      "  - [mag_d18p0_nuv, f4]\r\n",
      "  - [mag_d25p5_nuv, f4]\r\n",
      "  - [mag_d34p5_nuv, f4]\r\n",
      "  - [magerr_d3p0_nuv, f4]\r\n",
      "  - [magerr_d4p5_nuv, f4]\r\n",
      "  - [magerr_d7p5_nuv, f4]\r\n",
      "  - [magerr_d12p0_nuv, f4]\r\n",
      "  - [magerr_d18p0_nuv, f4]\r\n",
      "  - [magerr_d25p5_nuv, f4]\r\n",
      "  - [magerr_d34p5_nuv, f4]\r\n",
      "  - [flux20_radius_nuv, f4]\r\n",
      "  - [flux50_radius_nuv, f4]\r\n",
      "  - [flux80_radius_nuv, f4]\r\n",
      "  - [flux90_radius_nuv, f4]\r\n",
      "  - [flux95_radius_nuv, f4]\r\n",
      "  - [flux_max_nuv, f4]\r\n",
      "  - [fwhm_nuv, f4]\r\n",
      "  - [flags_nuv, i2]\r\n",
      "  - [artifact_nuv, i4]\r\n",
      " photoextra_fuv:\r\n",
      "  columns:\r\n",
      "  - [exptime_fuv, f4]\r\n",
      "  - [flux_d3p0_fuv, f4]\r\n",
      "  - [flux_d4p5_fuv, f4]\r\n",
      "  - [flux_d7p5_fuv, f4]\r\n",
      "  - [flux_d12p0_fuv, f4]\r\n",
      "  - [flux_d18p0_fuv, f4]\r\n",
      "  - [flux_d25p5_fuv, f4]\r\n",
      "  - [flux_d34p5_fuv, f4]\r\n",
      "  - [fluxerr_d3p0_fuv, f4]\r\n",
      "  - [fluxerr_d4p5_fuv, f4]\r\n",
      "  - [fluxerr_d7p5_fuv, f4]\r\n",
      "  - [fluxerr_d12p0_fuv, f4]\r\n",
      "  - [fluxerr_d18p0_fuv, f4]\r\n",
      "  - [fluxerr_d25p5_fuv, f4]\r\n",
      "  - [fluxerr_d34p5_fuv, f4]\r\n",
      "  - [mag_d3p0_fuv, f4]\r\n",
      "  - [mag_d4p5_fuv, f4]\r\n",
      "  - [mag_d7p5_fuv, f4]\r\n",
      "  - [mag_d12p0_fuv, f4]\r\n",
      "  - [mag_d18p0_fuv, f4]\r\n",
      "  - [mag_d25p5_fuv, f4]\r\n",
      "  - [mag_d34p5_fuv, f4]\r\n",
      "  - [magerr_d3p0_fuv, f4]\r\n",
      "  - [magerr_d4p5_fuv, f4]\r\n",
      "  - [magerr_d7p5_fuv, f4]\r\n",
      "  - [magerr_d12p0_fuv, f4]\r\n",
      "  - [magerr_d18p0_fuv, f4]\r\n",
      "  - [magerr_d25p5_fuv, f4]\r\n",
      "  - [magerr_d34p5_fuv, f4]\r\n",
      "  - [flux20_radius_fuv, f4]\r\n",
      "  - [flux50_radius_fuv, f4]\r\n",
      "  - [flux80_radius_fuv, f4]\r\n",
      "  - [flux90_radius_fuv, f4]\r\n",
      "  - [flux95_radius_fuv, f4]\r\n",
      "  - [fwhm_fuv, f4]\r\n",
      "  - [flags_fuv, i2]\r\n",
      "  - [artifact_fuv, i4]\r\n",
      "  - [flux_3ul_fuv, f4]\r\n",
      "  - [mag_3ul_fuv, f4]\r\n",
      "  - [flux_d6p0_3ul_fuv, f4]\r\n",
      "  - [mag_d6p0_3ul_fuv, f4]\r\n",
      " astrometric:\r\n",
      "  columns:\r\n",
      "  - [poserr, f4]\r\n",
      "  - [x_image, f4]\r\n",
      "  - [y_image, f4]\r\n",
      "  - [xpeak_image, i4]\r\n",
      "  - [ypeak_image, i4]\r\n",
      "  - [posang, f4]\r\n",
      "  - [posangerr, f4]\r\n",
      "  - [semimajor, f4]\r\n",
      "  - [semiminor, f4]\r\n",
      "  - [semimajorerr, f4]\r\n",
      "  - [semiminorerr, f4]\r\n",
      " extra:\r\n",
      "  columns:\r\n",
      "  - [tile, S31]\r\n",
      "  - [name, S27]\r\n",
      "  - [hp_pixel, S22]\r\n",
      "  - [extended, uint8]\r\n",
      "  - [manflag, i2]\r\n"
     ]
    }
   ],
   "source": [
    "! cat galex_GASC.yaml"
   ]
  },
  {
   "cell_type": "code",
   "execution_count": 8,
   "metadata": {
    "collapsed": false
   },
   "outputs": [
    {
     "name": "stdout",
     "output_type": "stream",
     "text": [
      "Large Survey Database, version \r\n"
     ]
    }
   ],
   "source": [
    "# Check LSD\n",
    "! lsd-query --version"
   ]
  },
  {
   "cell_type": "code",
   "execution_count": 9,
   "metadata": {
    "collapsed": false,
    "scrolled": true
   },
   "outputs": [
    {
     "name": "stdout",
     "output_type": "stream",
     "text": [
      "\n",
      "-------- committing 20150322195532.510054 [galex_GASC] ---------\n",
      "[galex_GASC] Updating tablet catalog: [256 el.]::::::::::::::::::::>  0.10 sec\n",
      "[galex_GASC] Updating neighbors: Already up to date.\n",
      "[galex_GASC] Updating tablet catalog: [256 el.]::::::::::::::::::::>  0.10 sec\n",
      "[galex_GASC] Updating stats: [0 el.]>  0.00 sec\n",
      "[galex_GASC] Marking tablets read-only...\n",
      "----------- success 20150322195532.510054 [galex_GASC] ---------\n",
      "\n",
      "Table 'galex_GASC' created.\n"
     ]
    }
   ],
   "source": [
    "# Create table using schema\n",
    "! lsd-admin create table --schema=galex_GASC.yaml galex_GASC"
   ]
  },
  {
   "cell_type": "code",
   "execution_count": 10,
   "metadata": {
    "collapsed": false,
    "scrolled": true
   },
   "outputs": [
    {
     "name": "stdout",
     "output_type": "stream",
     "text": [
      "Importing from 1 pieces:\n",
      "  ===> Imported SP_000-007-asc-xd-pricat.fits.gz                                       [1/1, 100.00%] + 2283683/2283683   2283683 (1/1 min.)\n",
      "done\n",
      "\n",
      "-------- committing 20150322195533.213536 [galex_GASC] ---------\n",
      "[galex_GASC] Updating tablet catalog: [256 el.]::::::::::::::::::::>  0.34 sec\n",
      "[galex_GASC] Updating neighbors: [160 el.]::::::::::::::::::::[229 el.]++++++++++++++++++++>  8.69 sec\n",
      "             Total 167404 cached objects in 229 cells\n",
      "[galex_GASC] Updating tablet catalog: [256 el.]::::::::::::::::::::>  0.45 sec\n",
      "[galex_GASC] Updating stats: [229 el.]::::::::::::::::::::>  0.03 sec [229 el.]::::::::::::::::::::>  0.49 sec\n",
      "[galex_GASC] Marking tablets read-only...\n",
      "----------- success 20150322195533.213536 [galex_GASC] ---------\n",
      "\n"
     ]
    }
   ],
   "source": [
    "# Import sample chunk\n",
    "! lsd-import fits galex_GASC *-pricat.fits.gz"
   ]
  },
  {
   "cell_type": "markdown",
   "metadata": {},
   "source": [
    "### Download scripts for remaining catalogs (included for convenience):"
   ]
  },
  {
   "cell_type": "markdown",
   "metadata": {},
   "source": [
    "All Sky Survey - Secondary and Duplicate Source Catalogs:"
   ]
  },
  {
   "cell_type": "code",
   "execution_count": null,
   "metadata": {
    "collapsed": true
   },
   "outputs": [],
   "source": [
    "# Downloads the secondary source catalog \n",
    "for chunk in chunks:\n",
    "    ! (cd ~/Galex67/asc/fullsky/catalog && wget -nv -nc http://archive.stsci.edu/pub/hlsp/gcat/asc/fullsky/catalog/SP_{chunk}-asc-xd-seccat.fits.gz)"
   ]
  },
  {
   "cell_type": "code",
   "execution_count": null,
   "metadata": {
    "collapsed": true
   },
   "outputs": [],
   "source": [
    "# Downloads the duplicate source catalog \n",
    "for chunk in chunks:\n",
    "    ! (cd ~/Galex67/asc/fullsky/catalog && wget -nv -nc http://archive.stsci.edu/pub/hlsp/gcat/asc/fullsky/catalog/SP_{chunk}-asc-xd-seccat.fits.gz)"
   ]
  },
  {
   "cell_type": "markdown",
   "metadata": {},
   "source": [
    "Medium Sky Survey - Primary Source Catalog:"
   ]
  },
  {
   "cell_type": "code",
   "execution_count": null,
   "metadata": {
    "collapsed": true
   },
   "outputs": [],
   "source": [
    "# Create directory structure\n",
    "! mkdir -p ~/Galex67/msc/fullsky/catalog"
   ]
  },
  {
   "cell_type": "code",
   "execution_count": null,
   "metadata": {
    "collapsed": true
   },
   "outputs": [],
   "source": [
    "# Downloads the primary source catalog \n",
    "for chunk in chunks:\n",
    "    ! (cd ~/Galex67/msc/fullsky/catalog && wget -nv -nc http://archive.stsci.edu/pub/hlsp/gcat/msc/fullsky/catalog/SP_{chunk}-msc-xd-pricat.fits.gz)"
   ]
  },
  {
   "cell_type": "markdown",
   "metadata": {},
   "source": [
    "Medium Sky Survey - Secondary and Duplicate Source Catalogs:"
   ]
  },
  {
   "cell_type": "code",
   "execution_count": null,
   "metadata": {
    "collapsed": true
   },
   "outputs": [],
   "source": [
    "# Downloads the secondary source catalog:\n",
    "for chunk in chunks:\n",
    "    ! (cd ~/Galex67/msc/fullsky/catalog && wget -nv -nc http://archive.stsci.edu/pub/hlsp/gcat/msc/fullsky/catalog/SP_{chunk}-msc-xd-seccat.fits.gz)"
   ]
  },
  {
   "cell_type": "code",
   "execution_count": null,
   "metadata": {
    "collapsed": true
   },
   "outputs": [],
   "source": [
    "# Downloads the duplicate source catalog:\n",
    "for chunk in chunks:\n",
    "    ! (cd ~/Galex67/msc/fullsky/catalog && wget -nv -nc http://archive.stsci.edu/pub/hlsp/gcat/msc/fullsky/catalog/SP_{chunk}-msc-xd-duplicates.fits.gz)"
   ]
  },
  {
   "cell_type": "markdown",
   "metadata": {},
   "source": [
    "### General Release 7:"
   ]
  },
  {
   "cell_type": "code",
   "execution_count": null,
   "metadata": {
    "collapsed": true
   },
   "outputs": [],
   "source": [
    "# Create directory structure\n",
    "! mkdir -p ~/Galex67/kepler/fullsky/catalog"
   ]
  },
  {
   "cell_type": "markdown",
   "metadata": {},
   "source": [
    "Kepler Field - Primary Source Catalog:"
   ]
  },
  {
   "cell_type": "code",
   "execution_count": null,
   "metadata": {
    "collapsed": true
   },
   "outputs": [],
   "source": [
    "# Downloads the primary source catalog:\n",
    "! (cd ~/Galex67/kepler/fullsky/catalog && wget -nv -nc http://archive.stsci.edu/pub/hlsp/gcat/kepler/fullsky/catalog/SP_089-094-kep-xd-pricat.fits.gz)"
   ]
  },
  {
   "cell_type": "markdown",
   "metadata": {},
   "source": [
    "Kepler Field - Secondary and Duplicate Source Catalogs:"
   ]
  },
  {
   "cell_type": "code",
   "execution_count": null,
   "metadata": {
    "collapsed": true
   },
   "outputs": [],
   "source": [
    "# Downloads the secondary source catalog:\n",
    "! (cd ~/Galex67/kepler/fullsky/catalog && wget -nv -nc http://archive.stsci.edu/pub/hlsp/gcat/kepler/fullsky/catalog/SP_089-094-kep-xd-seccat.fits.gz)"
   ]
  },
  {
   "cell_type": "code",
   "execution_count": null,
   "metadata": {
    "collapsed": true
   },
   "outputs": [],
   "source": [
    "# Downloads the duplicate source catalog:\n",
    "! (cd ~/Galex67/kepler/fullsky/catalog && wget -nv -nc http://archive.stsci.edu/pub/hlsp/gcat/kepler/fullsky/catalog/SP_089-094-kep-xd-duplicates.fits.gz)"
   ]
  }
 ],
 "metadata": {
  "kernelspec": {
   "display_name": "Python 2",
   "language": "python",
   "name": "python2"
  },
  "language_info": {
   "codemirror_mode": {
    "name": "ipython",
    "version": 2
   },
   "file_extension": ".py",
   "mimetype": "text/x-python",
   "name": "python",
   "nbconvert_exporter": "python",
   "pygments_lexer": "ipython2",
   "version": "2.7.9"
  }
 },
 "nbformat": 4,
 "nbformat_minor": 0
}
